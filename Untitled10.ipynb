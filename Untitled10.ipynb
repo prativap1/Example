{
  "nbformat": 4,
  "nbformat_minor": 0,
  "metadata": {
    "colab": {
      "name": "Untitled10.ipynb",
      "provenance": []
    },
    "kernelspec": {
      "name": "python3",
      "display_name": "Python 3"
    },
    "language_info": {
      "name": "python"
    }
  },
  "cells": [
    {
      "cell_type": "code",
      "execution_count": 4,
      "metadata": {
        "colab": {
          "base_uri": "https://localhost:8080/"
        },
        "id": "vWz96XjVQ5hq",
        "outputId": "e4819928-9ad2-47ac-b967-9056df9c664a"
      },
      "outputs": [
        {
          "output_type": "stream",
          "name": "stdout",
          "text": [
            "subscribe toPrativa\n",
            "subscribe toPrativa\n",
            "subscribe toPrativa\n"
          ]
        }
      ],
      "source": [
        "#youtuber = \"Prativa\"\n",
        "#print(\"subscribe to\" + youtuber)\n",
        "#print(\"subscribe to{}\".format(youtuber))\n",
        "#print(f\"subscribe to{youtuber}\")"
      ]
    },
    {
      "cell_type": "code",
      "source": [
        "madlib = f\"Computer progrmming is do {adj}!\"It makes me so excited all the time because \n",
        "I love to {verb1}. Stay hydrated "
      ],
      "metadata": {
        "id": "2BUW1pPnTRZh"
      },
      "execution_count": null,
      "outputs": []
    }
  ]
}